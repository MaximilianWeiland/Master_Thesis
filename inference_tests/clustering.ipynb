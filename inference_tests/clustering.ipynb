{
 "cells": [
  {
   "cell_type": "code",
   "execution_count": 45,
   "metadata": {},
   "outputs": [],
   "source": [
    "import pandas as pd\n",
    "import numpy as np \n",
    "from sklearn.cluster import DBSCAN\n",
    "import json\n",
    "from transformers import BertModel, BertTokenizerFast\n",
    "import torch\n",
    "from collections import defaultdict"
   ]
  },
  {
   "cell_type": "code",
   "execution_count": 18,
   "metadata": {},
   "outputs": [],
   "source": [
    "# load the sentences and correct labels\n",
    "all_sentences = []\n",
    "\n",
    "with open(\"../data/annotations.json\", \"r\") as f:\n",
    "    data = json.load(f)\n",
    "\n",
    "for sentence in data:\n",
    "    text = sentence[\"data\"][\"sentence\"]\n",
    "    labels = []\n",
    "    results = sentence[\"annotations\"][0][\"result\"]\n",
    "    labels = [r[\"value\"][\"text\"] for r in results]\n",
    "    spans = [\n",
    "        {\n",
    "            \"start\": r[\"value\"][\"start\"],\n",
    "            \"end\": r[\"value\"][\"end\"]\n",
    "        }\n",
    "        for r in results if r[\"type\"] == \"labels\"\n",
    "    ]\n",
    "\n",
    "    all_sentences.append({\n",
    "        \"text\": text,\n",
    "        \"labels\": labels,\n",
    "        \"spans\": spans\n",
    "    })"
   ]
  },
  {
   "cell_type": "code",
   "execution_count": 19,
   "metadata": {},
   "outputs": [
    {
     "data": {
      "text/plain": [
       "64"
      ]
     },
     "execution_count": 19,
     "metadata": {},
     "output_type": "execute_result"
    }
   ],
   "source": [
    "# extract all group mentions present\n",
    "group_mentions_present = [ex for ex in all_sentences if ex[\"labels\"]]\n",
    "len(group_mentions_present)"
   ]
  },
  {
   "cell_type": "code",
   "execution_count": 5,
   "metadata": {},
   "outputs": [
    {
     "data": {
      "application/vnd.jupyter.widget-view+json": {
       "model_id": "3b6660cc35124d54baf8b0ef8f6f8048",
       "version_major": 2,
       "version_minor": 0
      },
      "text/plain": [
       "tokenizer_config.json:   0%|          | 0.00/48.0 [00:00<?, ?B/s]"
      ]
     },
     "metadata": {},
     "output_type": "display_data"
    },
    {
     "data": {
      "application/vnd.jupyter.widget-view+json": {
       "model_id": "394bc8680fbf4ae09574f9742db7a3dc",
       "version_major": 2,
       "version_minor": 0
      },
      "text/plain": [
       "vocab.txt:   0%|          | 0.00/232k [00:00<?, ?B/s]"
      ]
     },
     "metadata": {},
     "output_type": "display_data"
    },
    {
     "data": {
      "application/vnd.jupyter.widget-view+json": {
       "model_id": "c7f91e48231741dbba70eb2d1fc42960",
       "version_major": 2,
       "version_minor": 0
      },
      "text/plain": [
       "tokenizer.json:   0%|          | 0.00/466k [00:00<?, ?B/s]"
      ]
     },
     "metadata": {},
     "output_type": "display_data"
    },
    {
     "data": {
      "application/vnd.jupyter.widget-view+json": {
       "model_id": "adf2903afb29432cb5bf41e4770db87e",
       "version_major": 2,
       "version_minor": 0
      },
      "text/plain": [
       "config.json:   0%|          | 0.00/570 [00:00<?, ?B/s]"
      ]
     },
     "metadata": {},
     "output_type": "display_data"
    },
    {
     "data": {
      "application/vnd.jupyter.widget-view+json": {
       "model_id": "0f57d4025c2849e2a828c8bb185a3c6c",
       "version_major": 2,
       "version_minor": 0
      },
      "text/plain": [
       "model.safetensors:   0%|          | 0.00/440M [00:00<?, ?B/s]"
      ]
     },
     "metadata": {},
     "output_type": "display_data"
    },
    {
     "data": {
      "text/plain": [
       "BertModel(\n",
       "  (embeddings): BertEmbeddings(\n",
       "    (word_embeddings): Embedding(30522, 768, padding_idx=0)\n",
       "    (position_embeddings): Embedding(512, 768)\n",
       "    (token_type_embeddings): Embedding(2, 768)\n",
       "    (LayerNorm): LayerNorm((768,), eps=1e-12, elementwise_affine=True)\n",
       "    (dropout): Dropout(p=0.1, inplace=False)\n",
       "  )\n",
       "  (encoder): BertEncoder(\n",
       "    (layer): ModuleList(\n",
       "      (0-11): 12 x BertLayer(\n",
       "        (attention): BertAttention(\n",
       "          (self): BertSdpaSelfAttention(\n",
       "            (query): Linear(in_features=768, out_features=768, bias=True)\n",
       "            (key): Linear(in_features=768, out_features=768, bias=True)\n",
       "            (value): Linear(in_features=768, out_features=768, bias=True)\n",
       "            (dropout): Dropout(p=0.1, inplace=False)\n",
       "          )\n",
       "          (output): BertSelfOutput(\n",
       "            (dense): Linear(in_features=768, out_features=768, bias=True)\n",
       "            (LayerNorm): LayerNorm((768,), eps=1e-12, elementwise_affine=True)\n",
       "            (dropout): Dropout(p=0.1, inplace=False)\n",
       "          )\n",
       "        )\n",
       "        (intermediate): BertIntermediate(\n",
       "          (dense): Linear(in_features=768, out_features=3072, bias=True)\n",
       "          (intermediate_act_fn): GELUActivation()\n",
       "        )\n",
       "        (output): BertOutput(\n",
       "          (dense): Linear(in_features=3072, out_features=768, bias=True)\n",
       "          (LayerNorm): LayerNorm((768,), eps=1e-12, elementwise_affine=True)\n",
       "          (dropout): Dropout(p=0.1, inplace=False)\n",
       "        )\n",
       "      )\n",
       "    )\n",
       "  )\n",
       "  (pooler): BertPooler(\n",
       "    (dense): Linear(in_features=768, out_features=768, bias=True)\n",
       "    (activation): Tanh()\n",
       "  )\n",
       ")"
      ]
     },
     "execution_count": 5,
     "metadata": {},
     "output_type": "execute_result"
    }
   ],
   "source": [
    "# define tokenizer\n",
    "tokenizer = BertTokenizerFast.from_pretrained(\"bert-base-uncased\")\n",
    "\n",
    "# download model with pretrained weights \n",
    "model = BertModel.from_pretrained(\"bert-base-uncased\", output_hidden_states=True) \n",
    "\n",
    "# set model to evaluation mode\n",
    "model.eval()"
   ]
  },
  {
   "cell_type": "code",
   "execution_count": 40,
   "metadata": {},
   "outputs": [
    {
     "data": {
      "text/plain": [
       "64"
      ]
     },
     "execution_count": 40,
     "metadata": {},
     "output_type": "execute_result"
    }
   ],
   "source": [
    "len(group_mentions_present)"
   ]
  },
  {
   "cell_type": "code",
   "execution_count": 36,
   "metadata": {},
   "outputs": [],
   "source": [
    "# define function that returns the word embeddings for all group mentions within sentence\n",
    "def extract_embedding(tokenizer, model, sentence, labels):\n",
    "    encoding = tokenizer(sentence, return_tensors=\"pt\", return_offsets_mapping=True, truncation=True)\n",
    "    offset_mapping = encoding.pop(\"offset_mapping\")[0].tolist()\n",
    "\n",
    "    with torch.no_grad():\n",
    "        outputs = model(**encoding)\n",
    "        hidden_states = outputs.last_hidden_state[0]\n",
    "\n",
    "    mention_embeddings = []\n",
    "\n",
    "    for mention in labels:\n",
    "        mention_start = int(mention[\"start\"])\n",
    "        mention_end = int(mention[\"end\"])\n",
    "        token_indices = [\n",
    "            i for i, (start, end) in enumerate(offset_mapping)\n",
    "            if start >= mention_start and end <= mention_end\n",
    "        ]\n",
    "\n",
    "        if token_indices:\n",
    "            mention_embedding = hidden_states[torch.tensor(token_indices)].mean(dim=0)\n",
    "            mention_embeddings.append(mention_embedding)\n",
    "\n",
    "    return mention_embeddings\n",
    "    "
   ]
  },
  {
   "cell_type": "code",
   "execution_count": 37,
   "metadata": {},
   "outputs": [],
   "source": [
    "# get embeddings for all mentions\n",
    "all_embeddings = []\n",
    "for sentence in group_mentions_present:\n",
    "    text = sentence[\"text\"]\n",
    "    labels = sentence[\"spans\"]\n",
    "\n",
    "# flatten the embeddings\n",
    "flat_embeddings = [embedding for sentence_mentions in all_embeddings for embedding in sentence_mentions]"
   ]
  },
  {
   "cell_type": "code",
   "execution_count": 56,
   "metadata": {},
   "outputs": [],
   "source": [
    "X = torch.stack(flat_embeddings).cpu().numpy()\n",
    "dbscan = DBSCAN(eps=.35, min_samples=2, metric='cosine') \n",
    "labels = dbscan.fit_predict(X)"
   ]
  },
  {
   "cell_type": "code",
   "execution_count": 57,
   "metadata": {},
   "outputs": [
    {
     "data": {
      "text/plain": [
       "array([ 0,  0, -1,  1,  2, -1, -1, -1, -1, -1, -1,  3,  3,  3, -1, -1, -1,\n",
       "        0,  4,  5,  6,  0,  7,  1,  1,  3,  8,  4,  5,  3,  1,  1, -1,  3,\n",
       "        3,  4,  7,  7,  7,  3,  3, -1, -1,  9, -1, -1, -1,  0,  3,  8,  1,\n",
       "        1,  7, -1, -1,  3, -1,  3, 10,  3, -1,  9,  3,  6,  3, 10,  0, 10,\n",
       "       -1, 10,  1,  1,  2, -1,  0,  3,  9,  1,  0])"
      ]
     },
     "execution_count": 57,
     "metadata": {},
     "output_type": "execute_result"
    }
   ],
   "source": [
    "labels"
   ]
  },
  {
   "cell_type": "code",
   "execution_count": 58,
   "metadata": {},
   "outputs": [
    {
     "data": {
      "text/plain": [
       "[{'text': 'Since Labour took office, 10,000 more children have been plunged into poverty by the refusal to scrap the two-child benefit cap.',\n",
       "  'labels': ['children'],\n",
       "  'spans': [{'start': 38, 'end': 46}]},\n",
       " {'text': 'This , I hope every child has the chance to get to ‘know themselves to grow themselves’.',\n",
       "  'labels': ['every child'],\n",
       "  'spans': [{'start': 14, 'end': 25}]},\n",
       " {'text': \"We'll hear from planners, the council and police leaders as well as women themselves.\",\n",
       "  'labels': ['planners', 'women', 'police leaders'],\n",
       "  'spans': [{'start': 16, 'end': 24},\n",
       "   {'start': 68, 'end': 73},\n",
       "   {'start': 42, 'end': 56}]},\n",
       " {'text': 'I was reassured today to hear the government reiterate its commitment to legislation that will protect leaseholders and ensure they get fair treatment.',\n",
       "  'labels': ['leaseholders'],\n",
       "  'spans': [{'start': 103, 'end': 115}]},\n",
       " {'text': 'All different communities and religions were present today - all proud Rochdalians united in making our town such a great place to live and work.',\n",
       "  'labels': ['Rochdalians'],\n",
       "  'spans': [{'start': 71, 'end': 82}]},\n",
       " {'text': \"Massive bankers' bonuses are back according to the media.\",\n",
       "  'labels': ['bankers'],\n",
       "  'spans': [{'start': 8, 'end': 15}]},\n",
       " {'text': 'Female fisherwomen vampires against climate change????',\n",
       "  'labels': ['Female fisherwomen'],\n",
       "  'spans': [{'start': 0, 'end': 18}]},\n",
       " {'text': 'But we should remember the valuable contribution migrants make to our country.',\n",
       "  'labels': ['migrants'],\n",
       "  'spans': [{'start': 49, 'end': 57}]},\n",
       " {'text': 'their families, we have to stop asking the impossible and start seeking the sensible.',\n",
       "  'labels': ['families'],\n",
       "  'spans': [{'start': 6, 'end': 14}]},\n",
       " {'text': 'The Government’s benefits reform: a step in the wrong direction\\n\\nYesterday, the Secretary of State for Work and Pensions presented a much-trailed paper to Parliament, outlining plans to encourage those who are able to return to work.',\n",
       "  'labels': ['those who are able to return to work'],\n",
       "  'spans': [{'start': 196, 'end': 232}]},\n",
       " {'text': \"Government betrays WASPI women by refusing compensation \\nToday, Liz Kendall, Labour's Secretary of State for Work and Pensions, has announced they will dismiss the Ombudsman’s recommendation to provide fair, flat-rate compensation for 1950s-born women affected by state pension age changes.\",\n",
       "  'labels': ['WASPI women', '1950s-born women'],\n",
       "  'spans': [{'start': 19, 'end': 30}, {'start': 235, 'end': 251}]},\n",
       " {'text': 'There’s a tendency for Oxbridge grads to focus on Oxford and Cambridge, skipping over the data that shows MK’s economy is larger, more productive, and growing faster than either.',\n",
       "  'labels': ['Oxbridge grads'],\n",
       "  'spans': [{'start': 23, 'end': 37}]},\n",
       " {'text': 'Met Monmouthshire’s Ukrainian community in Abergavenny',\n",
       "  'labels': ['Monmouthshire’s Ukrainian community'],\n",
       "  'spans': [{'start': 4, 'end': 39}]},\n",
       " {'text': 'Absolutely lovely to catch up with constituents Guy and Jinanne and treat them to a coffee after PMQs today.',\n",
       "  'labels': ['constituents'],\n",
       "  'spans': [{'start': 35, 'end': 47}]},\n",
       " {'text': 'Today, I was delighted to announce £50 million for the Adoption and Special Guardian Support Fund, which pays for essential therapeutic services for vulnerable children.',\n",
       "  'labels': ['vulnerable children'],\n",
       "  'spans': [{'start': 149, 'end': 168}]},\n",
       " {'text': \"The US's sanctions undermine accountability, embolden impunity, and send a chilling message to victims of the gravest crimes.\",\n",
       "  'labels': ['victims of the gravest crimes.'],\n",
       "  'spans': [{'start': 95, 'end': 125}]},\n",
       " {'text': 'For regular commuters like myself this is exciting news, driving further improvements on the network to deliver a more reliable service.',\n",
       "  'labels': ['commuters'],\n",
       "  'spans': [{'start': 12, 'end': 21}]},\n",
       " {'text': 'I got to sit down with two amazing young people who, while in education, provided and continue to provide critical care to parents.',\n",
       "  'labels': ['young people', 'parents'],\n",
       "  'spans': [{'start': 35, 'end': 47}, {'start': 123, 'end': 130}]},\n",
       " {'text': \"Pop'n'Olly are the UK’s leading LGBT+ education resource provider for primary schools, supporting over 10,000 schools across the UK.\",\n",
       "  'labels': ['LGBT+'],\n",
       "  'spans': [{'start': 32, 'end': 37}]},\n",
       " {'text': 'Today, I spoke in Parliament during the ‘Tackling violence against women and girls’ debate.',\n",
       "  'labels': ['women', 'girls'],\n",
       "  'spans': [{'start': 67, 'end': 72}, {'start': 77, 'end': 82}]},\n",
       " {'text': 'I am pleased that the govt has boosted investment into the NHS and workers rights to ensure that people have a better support network around them.',\n",
       "  'labels': ['workers'],\n",
       "  'spans': [{'start': 67, 'end': 74}]},\n",
       " {'text': 'Last week was UK Parliament Week, and I spent it talking to students in Luton North about the issues they care about.',\n",
       "  'labels': ['students'],\n",
       "  'spans': [{'start': 60, 'end': 68}]},\n",
       " {'text': 'I welcome the appointment and I look forward to swift justice for all victims and their loved ones.',\n",
       "  'labels': ['victims and their loved ones'],\n",
       "  'spans': [{'start': 70, 'end': 98}]},\n",
       " {'text': 'We will be focused on fixing our unreliable & expensive trains for frustrated rail users in  and beyond!',\n",
       "  'labels': ['rail users'],\n",
       "  'spans': [{'start': 78, 'end': 88}]},\n",
       " {'text': 'The new Coast Building at Royal Bournemouth Hospital will directly benefit constituents of Bournemouth East when it opens in 2026.',\n",
       "  'labels': ['constituents of Bournemouth East'],\n",
       "  'spans': [{'start': 75, 'end': 107}]},\n",
       " {'text': 'The safety of women and babies must be everyone’s priority.',\n",
       "  'labels': ['women', 'babies'],\n",
       "  'spans': [{'start': 14, 'end': 19}, {'start': 24, 'end': 30}]},\n",
       " {'text': 'Somerset receives £4k less per pupil than top-funded areas and has a £290m SEND deficit, having experienced a 60% increase in SEND placements.',\n",
       "  'labels': ['pupil'],\n",
       "  'spans': [{'start': 31, 'end': 36}]},\n",
       " {'text': 'Residents in Westerhope tell me that nuisance vehicles, like e-bikes, off-road bikes and speeding cars are causing absolute misery, as do people in Slatyford and Newbiggin.',\n",
       "  'labels': ['Residents in Westerhope', 'people in Slatyford and Newbiggin'],\n",
       "  'spans': [{'start': 0, 'end': 23}, {'start': 138, 'end': 171}]},\n",
       " {'text': 'We remember the courage, resilience, and ultimate sacrifice of those who fought for peace and freedom.',\n",
       "  'labels': ['those who fought for peace and freedom'],\n",
       "  'spans': [{'start': 63, 'end': 101}]},\n",
       " {'text': 'Drag Story Time with Ula Lah, Deptford Lounge, 7th June \\n\\n️\\u200d️ Transgender History and Archiving Talk, Deptford Lounge, 27th June \\n\\n Big Queer Disabled Picnic, The Albany, 28th June  (2/2)',\n",
       "  'labels': ['Transgender', 'Queer', 'Disabled'],\n",
       "  'spans': [{'start': 62, 'end': 73},\n",
       "   {'start': 136, 'end': 141},\n",
       "   {'start': 142, 'end': 150}]},\n",
       " {'text': 'This means more skilled workers, stronger local businesses, and better job opportunities—especially for the hardworking people of Gravesham.',\n",
       "  'labels': ['skilled workers', 'the hardworking people of Gravesham'],\n",
       "  'spans': [{'start': 16, 'end': 31}, {'start': 104, 'end': 139}]},\n",
       " {'text': 'Scams are becoming more sophisticated, making it vital to stay alert—especially for older people.',\n",
       "  'labels': ['older people'],\n",
       "  'spans': [{'start': 84, 'end': 96}]},\n",
       " {'text': 'Great to meet this morning with Liz Sykes from the Mill Hill and Burnt Oak Good Neighbour Scheme to learn more about the excellent work they do supporting our senior citizens.',\n",
       "  'labels': ['senior citizens'],\n",
       "  'spans': [{'start': 159, 'end': 174}]},\n",
       " {'text': 'Families are being made homeless through no fault of their own.',\n",
       "  'labels': ['Families'],\n",
       "  'spans': [{'start': 0, 'end': 8}]},\n",
       " {'text': 'I cannot - just cannot - let this divisive, xenophobic, racist pack use far-right nationalist populism & fear as a basis for policy, our...',\n",
       "  'labels': ['divisive, xenophobic, racist pack'],\n",
       "  'spans': [{'start': 34, 'end': 67}]},\n",
       " {'text': 'Following our @southcambs motion, Sign this cross-party letter: making waste producers pay the cost of disposing of non-recyclable plastics, a latte levy and more @SCLibDems @GreenLibDems @amcarmichaelMP @IanMurrayMP @CarolineLucas ...',\n",
       "  'labels': ['waste producers'],\n",
       "  'spans': [{'start': 71, 'end': 86}]},\n",
       " {'text': 'My deepest sympathies and prayers are with his wife Pauline, his family and all who loved him.',\n",
       "  'labels': ['family'],\n",
       "  'spans': [{'start': 65, 'end': 71}]},\n",
       " {'text': \"It's great to see children learning, exploring, and thriving in such a well-thought-out natural environment.\",\n",
       "  'labels': ['children'],\n",
       "  'spans': [{'start': 18, 'end': 26}]},\n",
       " {'text': 'The slowest u-turn in history has left pensioners with uncertainty and real fear for the winter months.',\n",
       "  'labels': ['pensioners'],\n",
       "  'spans': [{'start': 39, 'end': 49}]},\n",
       " {'text': \"Big thanks to the talented students at St Margaret's Primary Academy Lowestoft for joining my Christmas card competition!\",\n",
       "  'labels': ['students'],\n",
       "  'spans': [{'start': 27, 'end': 35}]},\n",
       " {'text': 'We have an ambitious mission to halve violence against women and girls within a decade and our landmark Employment Rights Bill will address long-standing issues like pregnancy discrimination and tackle barriers to employment which for too long have perpetuated economic inequality.',\n",
       "  'labels': ['women', 'girls'],\n",
       "  'spans': [{'start': 55, 'end': 60}, {'start': 65, 'end': 70}]},\n",
       " {'text': 'I am SO proud to represent the city that founded Europe’s first-ever and best Trans Pride event, see you in July!',\n",
       "  'labels': ['Trans'],\n",
       "  'spans': [{'start': 78, 'end': 83}]},\n",
       " {'text': '16 pupils had written to me previously about Global Goal concerns and I was able to share personal response letters from me with them today.',\n",
       "  'labels': ['pupils'],\n",
       "  'spans': [{'start': 3, 'end': 9}]},\n",
       " {'text': 'I will continue to hold the Government and Surrey Heartlands to account to ensure my constituents in Epsom & Ewell are getting the quality healthcare they deserve.',\n",
       "  'labels': ['constituents'],\n",
       "  'spans': [{'start': 85, 'end': 97}]},\n",
       " {'text': 'Billions of pounds for the two hospitals that serve my South West Norfolk constituents.',\n",
       "  'labels': ['South West Norfolk constituents'],\n",
       "  'spans': [{'start': 55, 'end': 86}]},\n",
       " {'text': 'Too often taxpayers are subsidising low pay as working families are left reliant on benefits to afford basics.',\n",
       "  'labels': ['taxpayers', 'working families'],\n",
       "  'spans': [{'start': 10, 'end': 19}, {'start': 47, 'end': 63}]},\n",
       " {'text': 'A pleasure to talk to residents & Town Councillors and hear about any issues or concerns, and to canvass with  Councillor Will Mee the  County Council candidate',\n",
       "  'labels': ['residents'],\n",
       "  'spans': [{'start': 22, 'end': 31}]},\n",
       " {'text': 'I regularly hold surgeries where I support Mid Derbyshire residents with a range of concerns - my most recent one was in Spondon.',\n",
       "  'labels': ['Mid Derbyshire residents'],\n",
       "  'spans': [{'start': 43, 'end': 67}]},\n",
       " {'text': 'The vehicle will support frontline teams conducting life-saving evacuations of wounded soldiers and civilians in war-torn regions: donorbox.org/christianale...',\n",
       "  'labels': ['soldiers'],\n",
       "  'spans': [{'start': 87, 'end': 95}]},\n",
       " {'text': 'Hospices do a vital job at providing support for people with life-limiting conditions.',\n",
       "  'labels': ['Hospices', 'people with life-limiting conditions'],\n",
       "  'spans': [{'start': 0, 'end': 8}, {'start': 49, 'end': 85}]},\n",
       " {'text': 'Yesterday I asked the Chancellor what she will do for our young people.',\n",
       "  'labels': ['young people'],\n",
       "  'spans': [{'start': 58, 'end': 70}]},\n",
       " {'text': 'I am voting FOR the Employment Rights Bill because I believe that hardworking people in Gravesham deserve security, fairness, and respect in the workplace.',\n",
       "  'labels': ['hardworking people in Gravesham'],\n",
       "  'spans': [{'start': 66, 'end': 97}]},\n",
       " {'text': 'We discussed key insights from my recent community event co-hosted with Jo Coles, focusing on residents’ and businesses’ concerns.',\n",
       "  'labels': ['residents'],\n",
       "  'spans': [{'start': 94, 'end': 103}]},\n",
       " {'text': '11th December\\n\\nDAY 11 of my Digital Advent Calendar - I’m featuring Depaul UK\\n\\nThey provide accommodation & support for homeless young people aged 16-25, as well as employment workshops to help with CVs and applying for jobs, colleges & university.',\n",
       "  'labels': ['homeless young people'],\n",
       "  'spans': [{'start': 120, 'end': 141}]},\n",
       " {'text': 'I have been working hard to solve a problem with mobile phone signal in Middleton after residents and businesses raised it with me.',\n",
       "  'labels': ['residents'],\n",
       "  'spans': [{'start': 88, 'end': 97}]},\n",
       " {'text': \"Constituency offices wholly paid for by the taxpayer can't be used for party activity (some split rent/space).\",\n",
       "  'labels': ['taxpayer'],\n",
       "  'spans': [{'start': 44, 'end': 52}]},\n",
       " {'text': 'I was pleased to pop in to Wessex House care home in  on Sunday ahead of  to say hello to staff & residents.',\n",
       "  'labels': ['residents'],\n",
       "  'spans': [{'start': 98, 'end': 107}]},\n",
       " {'text': 'This morning, @commonswomequ.parliament.uk published our report on women’s reproductive health, finding that medical misogyny is causing too much pain for too many women.',\n",
       "  'labels': ['women’s', 'women'],\n",
       "  'spans': [{'start': 67, 'end': 74}, {'start': 164, 'end': 169}]},\n",
       " {'text': \"I've been assured that with current proposals for the shared rural network underway, civil servants will visit the Far North to see any impact for themselves.\",\n",
       "  'labels': ['civil servants'],\n",
       "  'spans': [{'start': 85, 'end': 99}]},\n",
       " {'text': 'Groups like buskers rely on cash for their livelihoods, others lack reliable IT infrastructure needed to process card payments.',\n",
       "  'labels': ['buskers'],\n",
       "  'spans': [{'start': 12, 'end': 19}]},\n",
       " {'text': 'Open Country is a brilliant charity that helps disabled people access and enjoy the countryside.',\n",
       "  'labels': ['disabled people'],\n",
       "  'spans': [{'start': 47, 'end': 62}]},\n",
       " {'text': 'A win for both workers & businesses!',\n",
       "  'labels': ['workers'],\n",
       "  'spans': [{'start': 15, 'end': 22}]},\n",
       " {'text': \"MEN DIDN'T HAVE TO SACRIFICE THEIR FAMILY LIVES BECAUSE WOMEN DID ALL THE FAMILY WORK FOR THEM.\",\n",
       "  'labels': ['MEN', 'WOMEN'],\n",
       "  'spans': [{'start': 0, 'end': 3}, {'start': 56, 'end': 61}]},\n",
       " {'text': \"Labour's Plan for Change will give children in South Norfolk the best start in life.\",\n",
       "  'labels': ['children'],\n",
       "  'spans': [{'start': 35, 'end': 43}]}]"
      ]
     },
     "execution_count": 58,
     "metadata": {},
     "output_type": "execute_result"
    }
   ],
   "source": [
    "group_mentions_present"
   ]
  },
  {
   "cell_type": "code",
   "execution_count": 61,
   "metadata": {},
   "outputs": [],
   "source": [
    "# get all mentions\n",
    "all_mentions = [mention for sentence in group_mentions_present for mention in sentence[\"labels\"]]\n",
    "\n",
    "# pair them with their labels\n",
    "mentions_labels = zip(all_mentions, labels)"
   ]
  },
  {
   "cell_type": "code",
   "execution_count": 62,
   "metadata": {},
   "outputs": [
    {
     "name": "stdout",
     "output_type": "stream",
     "text": [
      "Cluster 0 (8 mentions):\n",
      "  - children\n",
      "  - every child\n",
      "  - vulnerable children\n",
      "  - parents\n",
      "  - children\n",
      "  - homeless young people\n",
      "  - disabled people\n",
      "  - children\n",
      "\n",
      "Cluster -1 (22 mentions):\n",
      "  - planners\n",
      "  - leaseholders\n",
      "  - Rochdalians\n",
      "  - bankers\n",
      "  - Female fisherwomen\n",
      "  - migrants\n",
      "  - families\n",
      "  - Oxbridge grads\n",
      "  - Monmouthshire’s Ukrainian community\n",
      "  - constituents\n",
      "  - pupil\n",
      "  - older people\n",
      "  - senior citizens\n",
      "  - divisive, xenophobic, racist pack\n",
      "  - waste producers\n",
      "  - family\n",
      "  - pupils\n",
      "  - constituents\n",
      "  - taxpayers\n",
      "  - soldiers\n",
      "  - taxpayer\n",
      "  - buskers\n",
      "\n",
      "Cluster 1 (10 mentions):\n",
      "  - women\n",
      "  - women\n",
      "  - girls\n",
      "  - women\n",
      "  - babies\n",
      "  - women\n",
      "  - girls\n",
      "  - women’s\n",
      "  - women\n",
      "  - WOMEN\n",
      "\n",
      "Cluster 2 (2 mentions):\n",
      "  - police leaders\n",
      "  - civil servants\n",
      "\n",
      "Cluster 3 (16 mentions):\n",
      "  - those who are able to return to work\n",
      "  - WASPI women\n",
      "  - 1950s-born women\n",
      "  - workers\n",
      "  - constituents of Bournemouth East\n",
      "  - Residents in Westerhope\n",
      "  - people in Slatyford and Newbiggin\n",
      "  - skilled workers\n",
      "  - the hardworking people of Gravesham\n",
      "  - pensioners\n",
      "  - South West Norfolk constituents\n",
      "  - working families\n",
      "  - Mid Derbyshire residents\n",
      "  - people with life-limiting conditions\n",
      "  - hardworking people in Gravesham\n",
      "  - workers\n",
      "\n",
      "Cluster 4 (3 mentions):\n",
      "  - victims of the gravest crimes.\n",
      "  - victims and their loved ones\n",
      "  - those who fought for peace and freedom\n",
      "\n",
      "Cluster 5 (2 mentions):\n",
      "  - commuters\n",
      "  - rail users\n",
      "\n",
      "Cluster 6 (2 mentions):\n",
      "  - young people\n",
      "  - young people\n",
      "\n",
      "Cluster 7 (5 mentions):\n",
      "  - LGBT+\n",
      "  - Transgender\n",
      "  - Queer\n",
      "  - Disabled\n",
      "  - Trans\n",
      "\n",
      "Cluster 8 (2 mentions):\n",
      "  - students\n",
      "  - students\n",
      "\n",
      "Cluster 9 (3 mentions):\n",
      "  - Families\n",
      "  - Hospices\n",
      "  - MEN\n",
      "\n",
      "Cluster 10 (4 mentions):\n",
      "  - residents\n",
      "  - residents\n",
      "  - residents\n",
      "  - residents\n",
      "\n"
     ]
    }
   ],
   "source": [
    "cluster_dict = defaultdict(list)\n",
    "\n",
    "for mention, label in zip(all_mentions, labels):\n",
    "    cluster_dict[label].append(mention)\n",
    "\n",
    "for cluster_id, mentions in cluster_dict.items():\n",
    "    print(f\"Cluster {cluster_id} ({len(mentions)} mentions):\")\n",
    "    for mention in mentions:\n",
    "        print(f\"  - {mention}\")\n",
    "    print()"
   ]
  }
 ],
 "metadata": {
  "kernelspec": {
   "display_name": "venv_thesis",
   "language": "python",
   "name": "python3"
  },
  "language_info": {
   "codemirror_mode": {
    "name": "ipython",
    "version": 3
   },
   "file_extension": ".py",
   "mimetype": "text/x-python",
   "name": "python",
   "nbconvert_exporter": "python",
   "pygments_lexer": "ipython3",
   "version": "3.13.4"
  },
  "orig_nbformat": 4
 },
 "nbformat": 4,
 "nbformat_minor": 2
}
