{
 "cells": [
  {
   "cell_type": "code",
   "execution_count": 8,
   "metadata": {},
   "outputs": [
    {
     "name": "stderr",
     "output_type": "stream",
     "text": [
      "Matplotlib is building the font cache; this may take a moment.\n"
     ]
    }
   ],
   "source": [
    "import pandas as pd\n",
    "import matplotlib.pyplot as plt\n",
    "import datetime as dt"
   ]
  },
  {
   "cell_type": "code",
   "execution_count": 70,
   "metadata": {},
   "outputs": [
    {
     "data": {
      "text/html": [
       "<div>\n",
       "<style scoped>\n",
       "    .dataframe tbody tr th:only-of-type {\n",
       "        vertical-align: middle;\n",
       "    }\n",
       "\n",
       "    .dataframe tbody tr th {\n",
       "        vertical-align: top;\n",
       "    }\n",
       "\n",
       "    .dataframe thead th {\n",
       "        text-align: right;\n",
       "    }\n",
       "</style>\n",
       "<table border=\"1\" class=\"dataframe\">\n",
       "  <thead>\n",
       "    <tr style=\"text-align: right;\">\n",
       "      <th></th>\n",
       "      <th>handle</th>\n",
       "      <th>date</th>\n",
       "      <th>text</th>\n",
       "    </tr>\n",
       "  </thead>\n",
       "  <tbody>\n",
       "    <tr>\n",
       "      <th>0</th>\n",
       "      <td>amcarmichaelmp.bsky.social</td>\n",
       "      <td>2025-06-20T09:51:13.076Z</td>\n",
       "      <td>Why the government must turn up the heat on en...</td>\n",
       "    </tr>\n",
       "    <tr>\n",
       "      <th>1</th>\n",
       "      <td>marshadecordova.bsky.social</td>\n",
       "      <td>2025-06-20T09:50:58.907Z</td>\n",
       "      <td>Happy  Awareness Day \\n\\nI was born with the v...</td>\n",
       "    </tr>\n",
       "    <tr>\n",
       "      <th>2</th>\n",
       "      <td>damedianajohnson.bsky.social</td>\n",
       "      <td>2025-06-20T09:45:37.546Z</td>\n",
       "      <td>The summer the country comes together to cheer...</td>\n",
       "    </tr>\n",
       "    <tr>\n",
       "      <th>3</th>\n",
       "      <td>libdemcam.bsky.social</td>\n",
       "      <td>2025-06-20T09:42:14.811Z</td>\n",
       "      <td>I understand, but it isn't my place to tell an...</td>\n",
       "    </tr>\n",
       "    <tr>\n",
       "      <th>4</th>\n",
       "      <td>yasminqureshimp.bsky.social</td>\n",
       "      <td>2025-06-20T09:32:44.331Z</td>\n",
       "      <td>I believe in dignity at the end of life.\\n\\nBu...</td>\n",
       "    </tr>\n",
       "  </tbody>\n",
       "</table>\n",
       "</div>"
      ],
      "text/plain": [
       "                         handle                      date  \\\n",
       "0    amcarmichaelmp.bsky.social  2025-06-20T09:51:13.076Z   \n",
       "1   marshadecordova.bsky.social  2025-06-20T09:50:58.907Z   \n",
       "2  damedianajohnson.bsky.social  2025-06-20T09:45:37.546Z   \n",
       "3         libdemcam.bsky.social  2025-06-20T09:42:14.811Z   \n",
       "4   yasminqureshimp.bsky.social  2025-06-20T09:32:44.331Z   \n",
       "\n",
       "                                                text  \n",
       "0  Why the government must turn up the heat on en...  \n",
       "1  Happy  Awareness Day \\n\\nI was born with the v...  \n",
       "2  The summer the country comes together to cheer...  \n",
       "3  I understand, but it isn't my place to tell an...  \n",
       "4  I believe in dignity at the end of life.\\n\\nBu...  "
      ]
     },
     "execution_count": 70,
     "metadata": {},
     "output_type": "execute_result"
    }
   ],
   "source": [
    "messages_df = pd.read_csv(\"../data/british_mps_posts.csv\")\n",
    "messages_df.head()"
   ]
  },
  {
   "cell_type": "code",
   "execution_count": 72,
   "metadata": {},
   "outputs": [],
   "source": [
    "# create proper date columns\n",
    "messages_df[\"date\"] = pd.to_datetime(messages_df[\"date\"], utc=True, format=\"mixed\", errors=\"raise\")\n",
    "messages_df[\"year\"] = messages_df[\"date\"].dt.isocalendar().year\n",
    "messages_df[\"week\"] = messages_df[\"date\"].dt.isocalendar().week\n",
    "messages_df[\"simple_date\"] = messages_df[\"date\"].dt.date\n",
    "messages_df['year_week'] = messages_df['year'].astype(str) + '-W' + messages_df['week'].astype(str).str.zfill(2)\n",
    "\n",
    "# limit the df to messages from 2024 and 2025\n",
    "messages_df = messages_df[(messages_df[\"year\"] == 2024) | (messages_df[\"year\"] == 2025)]"
   ]
  },
  {
   "cell_type": "code",
   "execution_count": 74,
   "metadata": {},
   "outputs": [
    {
     "name": "stdout",
     "output_type": "stream",
     "text": [
      "312\n",
      "45358\n"
     ]
    }
   ],
   "source": [
    "print(len(set(messages_df[\"handle\"])))\n",
    "print(len(messages_df))"
   ]
  },
  {
   "cell_type": "code",
   "execution_count": 66,
   "metadata": {},
   "outputs": [
    {
     "data": {
      "text/html": [
       "<div>\n",
       "<style scoped>\n",
       "    .dataframe tbody tr th:only-of-type {\n",
       "        vertical-align: middle;\n",
       "    }\n",
       "\n",
       "    .dataframe tbody tr th {\n",
       "        vertical-align: top;\n",
       "    }\n",
       "\n",
       "    .dataframe thead th {\n",
       "        text-align: right;\n",
       "    }\n",
       "</style>\n",
       "<table border=\"1\" class=\"dataframe\">\n",
       "  <thead>\n",
       "    <tr style=\"text-align: right;\">\n",
       "      <th></th>\n",
       "      <th>simple_date</th>\n",
       "      <th>count</th>\n",
       "    </tr>\n",
       "  </thead>\n",
       "  <tbody>\n",
       "    <tr>\n",
       "      <th>0</th>\n",
       "      <td>2024-01-01</td>\n",
       "      <td>4</td>\n",
       "    </tr>\n",
       "    <tr>\n",
       "      <th>1</th>\n",
       "      <td>2024-01-02</td>\n",
       "      <td>1</td>\n",
       "    </tr>\n",
       "    <tr>\n",
       "      <th>2</th>\n",
       "      <td>2024-01-03</td>\n",
       "      <td>1</td>\n",
       "    </tr>\n",
       "    <tr>\n",
       "      <th>3</th>\n",
       "      <td>2024-01-04</td>\n",
       "      <td>4</td>\n",
       "    </tr>\n",
       "    <tr>\n",
       "      <th>4</th>\n",
       "      <td>2024-01-05</td>\n",
       "      <td>3</td>\n",
       "    </tr>\n",
       "  </tbody>\n",
       "</table>\n",
       "</div>"
      ],
      "text/plain": [
       "  simple_date  count\n",
       "0  2024-01-01      4\n",
       "1  2024-01-02      1\n",
       "2  2024-01-03      1\n",
       "3  2024-01-04      4\n",
       "4  2024-01-05      3"
      ]
     },
     "execution_count": 66,
     "metadata": {},
     "output_type": "execute_result"
    }
   ],
   "source": [
    "# count the number of tweets per week\n",
    "group_df = messages_df.groupby(\"simple_date\").size().reset_index(name=\"count\")\n",
    "group_df.head()"
   ]
  },
  {
   "cell_type": "code",
   "execution_count": 69,
   "metadata": {},
   "outputs": [
    {
     "data": {
      "image/png": "[encoded data removed]",
      "text/plain": [
       "<Figure size 1500x700 with 1 Axes>"
      ]
     },
     "metadata": {},
     "output_type": "display_data"
    }
   ],
   "source": [
    "# visualize the number of messages over time\n",
    "plt.figure(figsize=(15, 7))\n",
    "plt.bar(group_df[\"simple_date\"], group_df[\"count\"])\n",
    "plt.title(\"Number of Messages Over Time\")\n",
    "plt.xlabel(\"Date\")\n",
    "plt.ylabel(\"Message Count\")\n",
    "plt.tight_layout()\n",
    "plt.grid(axis='y', linestyle='--', linewidth=0.5)\n",
    "plt.show()\n",
    "plt.show()"
   ]
  }
 ],
 "metadata": {
  "kernelspec": {
   "display_name": "venv_thesis",
   "language": "python",
   "name": "python3"
  },
  "language_info": {
   "codemirror_mode": {
    "name": "ipython",
    "version": 3
   },
   "file_extension": ".py",
   "mimetype": "text/x-python",
   "name": "python",
   "nbconvert_exporter": "python",
   "pygments_lexer": "ipython3",
   "version": "3.13.4"
  },
  "orig_nbformat": 4
 },
 "nbformat": 4,
 "nbformat_minor": 2
}
