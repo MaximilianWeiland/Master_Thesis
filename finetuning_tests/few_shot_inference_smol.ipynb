{
 "cells": [
  {
   "cell_type": "code",
   "execution_count": 86,
   "metadata": {},
   "outputs": [],
   "source": [
    "import torch\n",
    "import json\n",
    "import random\n",
    "import re\n",
    "import ast\n",
    "from transformers import AutoTokenizer, AutoModelForCausalLM\n",
    "from sklearn.metrics import precision_score, recall_score, f1_score, classification_report"
   ]
  },
  {
   "cell_type": "code",
   "execution_count": 150,
   "metadata": {},
   "outputs": [],
   "source": [
    "# load the sentences and correct labels\n",
    "all_sentences = []\n",
    "\n",
    "with open(\"../data/annotations.json\", \"r\") as f:\n",
    "    data = json.load(f)\n",
    "\n",
    "for sentence in data:\n",
    "    text = sentence[\"data\"][\"sentence\"]\n",
    "    labels = []\n",
    "    results = sentence[\"annotations\"][0][\"result\"]\n",
    "    labels = [r[\"value\"][\"text\"] for r in results]\n",
    "    \n",
    "    all_sentences.append({\n",
    "        \"text\": text,\n",
    "        \"labels\": labels\n",
    "    })"
   ]
  },
  {
   "cell_type": "code",
   "execution_count": 57,
   "metadata": {},
   "outputs": [],
   "source": [
    "# load the model\n",
    "checkpoint = \"HuggingFaceTB/SmolLM-1.7B-Instruct\"\n",
    "tokenizer = AutoTokenizer.from_pretrained(checkpoint)\n",
    "device = torch.device(\"cuda\") if torch.cuda.is_available() else torch.device(\"cpu\")\n",
    "model = AutoModelForCausalLM.from_pretrained(checkpoint).to(device)"
   ]
  },
  {
   "cell_type": "code",
   "execution_count": 165,
   "metadata": {},
   "outputs": [],
   "source": [
    "# define chat template for normal inference\n",
    "def compile_ner_prompt(few_shot_examples, test_sentence):\n",
    "    chat = [\n",
    "          {\"role\": \"system\",\n",
    "           \"content\": (\n",
    "                \"You are a helpful assistant that extracts social group mentions from text.\\n\"\n",
    "                \"Definition of a social group: A social group is a collective of people with common socio-demographic characteristics \"\n",
    "                \"(e.g., students, migrants, teachers, women, workers). It can also be formed by shared values or life experiences. \"\n",
    "                \"Institutions or institutional groupings do not count as social groups. However, if the sentence refers to the people \"\n",
    "                \"of an institution (e.g., 'the patients in the hospital'), this does count as a social group.\\n\\n\"\n",
    "                \"Your task is to extract all social group mentions from a given sentence.\\n\"\n",
    "                \"Collect all social group mentions into a single list. If there are several group mentions, this list will have several entries.\\n\"\n",
    "                \"If there are no social group mentions in the sentence, respond with 'None'.\"\n",
    "                )\n",
    "        }\n",
    "    ]\n",
    "    # add few-shot examples\n",
    "    for example in few_shot_examples:\n",
    "        context = example[\"text\"]\n",
    "        if example[\"labels\"]:\n",
    "            answer = str(example[\"labels\"])\n",
    "        else:\n",
    "            answer = \"None\"\n",
    "        chat.append(\n",
    "            {\"role\": \"user\", \"content\": f\"Sentence: {context}\"})\n",
    "        chat.append({\"role\": \"assistant\", \"content\": answer})\n",
    "    \n",
    "    # add the test sentence\n",
    "    chat.append(\n",
    "        {\"role\": \"user\", \"content\": f\"Sentence: {test_sentence}\"})\n",
    "\n",
    "    # compile the prompt\n",
    "    prompt = tokenizer.apply_chat_template(\n",
    "    chat, return_tensors=\"pt\", tokenize=False, add_generation_prompt=True)\n",
    "    return prompt"
   ]
  },
  {
   "cell_type": "code",
   "execution_count": 163,
   "metadata": {},
   "outputs": [],
   "source": [
    "# create some few-shot examples\n",
    "non_empty_examples = [ex for ex in all_sentences if ex[\"labels\"]]\n",
    "empty_examples = [ex for ex in all_sentences if not ex[\"labels\"]]\n",
    "few_shot_examples = random.sample(non_empty_examples, 4) + random.sample(empty_examples, 1)\n",
    "\n",
    "# create test dataset\n",
    "split_idx = int(len(non_empty_examples)*0.75)\n",
    "test_dataset = non_empty_examples[split_idx:] + random.sample(empty_examples, int(len(empty_examples)*0.2))\n",
    "random.shuffle(test_dataset)"
   ]
  },
  {
   "cell_type": "code",
   "execution_count": 186,
   "metadata": {},
   "outputs": [],
   "source": [
    "def to_list_or_empty(entry):\n",
    "    try:\n",
    "        val = ast.literal_eval(entry)\n",
    "        if isinstance(val, list):\n",
    "            return val\n",
    "        else:\n",
    "            return []\n",
    "    except (ValueError, SyntaxError):\n",
    "        return []"
   ]
  },
  {
   "cell_type": "code",
   "execution_count": 193,
   "metadata": {},
   "outputs": [],
   "source": [
    "# generate the answers for the normal format and store in a list\n",
    "gen_answers = []\n",
    "for i in range(len(test_dataset)):\n",
    "    sentence = test_dataset[i][\"text\"]\n",
    "    prompt = compile_ner_prompt(few_shot_examples, sentence)\n",
    "    prompt_ids = tokenizer(prompt, return_tensors=\"pt\", truncation=True).to(device)\n",
    "    outputs = model.generate(**prompt_ids)\n",
    "    generated_text = tokenizer.decode(outputs[0], skip_special_tokens = True)\n",
    "    answer = generated_text.split(\"assistant\\n\")[-1]\n",
    "    answer_list = to_list_or_empty(answer)\n",
    "    gen_answers.append(answer_list)"
   ]
  },
  {
   "cell_type": "code",
   "execution_count": 206,
   "metadata": {},
   "outputs": [
    {
     "name": "stdout",
     "output_type": "stream",
     "text": [
      "Precision: 0.1509 \n",
      "Recall: 0.4211 \n",
      "F1: 0.2222\n"
     ]
    }
   ],
   "source": [
    "# evaluate the generated answers\n",
    "results = []\n",
    "\n",
    "for idx in range(len(test_dataset)):\n",
    "    ground_truth = test_dataset[idx][\"labels\"]\n",
    "    prediction = gen_answers[idx]\n",
    "    results.append({\"labels\": ground_truth,\n",
    "                    \"prediction\": prediction})\n",
    "\n",
    "def evaluate_predictions(results):\n",
    "    y_true = []\n",
    "    y_pred = []\n",
    "\n",
    "    for example in results:\n",
    "        gold_mentions = set([m.lower().strip() for m in example[\"labels\"]])\n",
    "        pred_mentions = set([m.lower().strip() for m in example[\"prediction\"]])\n",
    "\n",
    "        for mention in gold_mentions:\n",
    "            y_true.append(1)\n",
    "            y_pred.append(1 if mention in pred_mentions else 0)\n",
    "\n",
    "        for mention in pred_mentions:\n",
    "            if mention not in gold_mentions:\n",
    "                y_true.append(0)\n",
    "                y_pred.append(1)\n",
    "\n",
    "    precision = precision_score(y_true, y_pred)\n",
    "    recall = recall_score(y_true, y_pred)\n",
    "    f1 = f1_score(y_true, y_pred)\n",
    "    return precision, recall, f1\n",
    "\n",
    "p, r, f1 = evaluate_predictions(results)\n",
    "\n",
    "print(f\"Precision: {p:.4f} \\nRecall: {r:.4f} \\nF1: {f1:.4f}\")"
   ]
  },
  {
   "cell_type": "code",
   "execution_count": 204,
   "metadata": {},
   "outputs": [
    {
     "name": "stdout",
     "output_type": "stream",
     "text": [
      "Looking forward to discussing top issues later today on Politics Live\n",
      "[]\n",
      "['Politics Live']\n",
      "--------------------------------------------------------------------------------\n",
      "Constituency offices wholly paid for by the taxpayer can't be used for party activity (some split rent/space).\n",
      "['taxpayer']\n",
      "['party activity']\n",
      "--------------------------------------------------------------------------------\n",
      "11th December\n",
      "\n",
      "DAY 11 of my Digital Advent Calendar - I’m featuring Depaul UK\n",
      "\n",
      "They provide accommodation & support for homeless young people aged 16-25, as well as employment workshops to help with CVs and applying for jobs, colleges & university.\n",
      "['homeless young people']\n",
      "[]\n",
      "--------------------------------------------------------------------------------\n",
      "To mark , I joined the Maternal Mental Health Alliance to highlight the need for better perinatal mental health support.\n",
      "[]\n",
      "['Maternal Mental Health Alliance']\n",
      "--------------------------------------------------------------------------------\n",
      "(2/2) It's recently been saved from redevelopment thanks to Save the Bell's tremendous local effort.\n",
      "[]\n",
      "['Save the Bell']\n",
      "--------------------------------------------------------------------------------\n"
     ]
    }
   ],
   "source": [
    "# print some examples\n",
    "for idx in range(5):\n",
    "    print(test_dataset[idx][\"text\"])\n",
    "    print(results[idx][\"labels\"])\n",
    "    print(results[idx][\"prediction\"])\n",
    "    print(\"-\"*80)"
   ]
  }
 ],
 "metadata": {
  "kernelspec": {
   "display_name": "venv_thesis",
   "language": "python",
   "name": "python3"
  },
  "language_info": {
   "codemirror_mode": {
    "name": "ipython",
    "version": 3
   },
   "file_extension": ".py",
   "mimetype": "text/x-python",
   "name": "python",
   "nbconvert_exporter": "python",
   "pygments_lexer": "ipython3",
   "version": "3.13.4"
  },
  "orig_nbformat": 4
 },
 "nbformat": 4,
 "nbformat_minor": 2
}
